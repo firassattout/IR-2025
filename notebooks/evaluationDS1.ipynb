{
 "cells": [
  {
   "cell_type": "code",
   "execution_count": 1,
   "id": "b806e8b5",
   "metadata": {},
   "outputs": [],
   "source": [
    "import requests\n",
    "import pandas as pd\n",
    "\n",
    "config = {\n",
    "    \"dataset_name\": \"beir/quora/dev\",\n",
    "    \"dataset_name2\": \"beir_quora\",\n",
    "    \"tfidf_model_path\": \"../models/tfidf/beir_quora_tfidf.joblib\",\n",
    "    \"tfidf_vector_path\": \"../models/tfidf/beir_quora_tfidf_vectors.joblib\",\n",
    "    \"svd_path\": \"../models/tfidf/beir_quora_svd.joblib\",\n",
    "    \"bert_model_path\": \"../models/embeddings/beir_quora_bert.joblib\",\n",
    "    \"bert_vector_path\": \"../models/embeddings/beir_quora_vectors.joblib\",\n",
    "    \"hybrid_vector_path\": \"../models/hybrid/beir_quora_hybrid_vectors.joblib\",\n",
    "    \"index_dir\": \"../data/index_beir_quora\",\n",
    "    \"faiss_tfidf_index_path\": \"../models/faiss/beir_quora_tfidf_faiss.index\",\n",
    "    \"faiss_bert_index_path\": \"../models/faiss/beir_quora_bert_faiss.index\",\n",
    "    \"faiss_hybrid_index_path\": \"../models/faiss/beir_quora_hybrid_faiss.index\",\n",
    "    \"sample_size\": 200,\n",
    "    \"alpha\": 0.2,\n",
    "    \"k\":500\n",
    "}"
   ]
  },
  {
   "cell_type": "code",
   "execution_count": 7,
   "id": "21d3b201",
   "metadata": {},
   "outputs": [
    {
     "name": "stdout",
     "output_type": "stream",
     "text": [
      "\n",
      "TF-IDF Model Evaluation:\n",
      "Average Metrics:\n",
      "                TF-IDF\n",
      "precision@10  0.051000\n",
      "recall        0.395405\n",
      "mrr           0.353524\n",
      "ap            0.311820\n",
      "\n",
      "Sample Results (First 5 rows):\n",
      "   precision@10    recall  mrr        ap query_id   model\n",
      "0           0.6  0.857143  1.0  0.836735   128201  TF-IDF\n",
      "1           0.1  1.000000  1.0  1.000000     2254  TF-IDF\n",
      "2           0.1  0.333333  1.0  0.333333    28695  TF-IDF\n",
      "3           0.0  0.000000  0.0  0.000000   333644  TF-IDF\n",
      "4           0.0  0.000000  0.0  0.000000   278122  TF-IDF\n"
     ]
    }
   ],
   "source": [
    "\n",
    "response = requests.post(\n",
    "    \"http://localhost:8000/evaluation/evaluate_tfidf_model\",\n",
    "    json={\n",
    "        \"dataset_name\": config[\"dataset_name\"],\n",
    "        \"tfidf_model_path\": config[\"tfidf_model_path\"],\n",
    "        \"tfidf_vector_path\": config[\"tfidf_vector_path\"],\n",
    "        \"index_dir\": config[\"index_dir\"],\n",
    "        \"sample_size\": config[\"sample_size\"]\n",
    "    }\n",
    ")\n",
    "response.raise_for_status()\n",
    "result = response.json()\n",
    "print(\"\\nTF-IDF Model Evaluation:\")\n",
    "print(\"Average Metrics:\")\n",
    "print(pd.DataFrame(result[\"average_metrics\"]))\n",
    "print(\"\\nSample Results (First 5 rows):\")\n",
    "print(pd.DataFrame(result[\"results\"]).head().to_string())\n"
   ]
  },
  {
   "cell_type": "code",
   "execution_count": 25,
   "id": "0b995a42",
   "metadata": {},
   "outputs": [
    {
     "name": "stdout",
     "output_type": "stream",
     "text": [
      "\n",
      "BERT Model Evaluation:\n",
      "Average Metrics:\n",
      "                  BERT\n",
      "precision@10  0.136000\n",
      "recall        0.990000\n",
      "mrr           0.899707\n",
      "ap            0.846769\n",
      "\n",
      "Sample Results (First 5 rows):\n",
      "   precision@10  recall  mrr   ap query_id model\n",
      "0           0.1     1.0  1.0  1.0   454828  BERT\n",
      "1           0.0     0.0  0.0  0.0   469466  BERT\n",
      "2           0.1     1.0  1.0  1.0   154114  BERT\n",
      "3           0.1     1.0  1.0  1.0   325102  BERT\n",
      "4           0.1     1.0  1.0  1.0   416984  BERT\n"
     ]
    }
   ],
   "source": [
    "\n",
    "response = requests.post(\n",
    "    \"http://localhost:8000/evaluation/evaluate_bert_model\",\n",
    "    json={\n",
    "        \"dataset_name\": config[\"dataset_name\"],\n",
    "        \"bert_model_path\": config[\"bert_model_path\"],\n",
    "        \"bert_vector_path\": config[\"bert_vector_path\"],\n",
    "        \"index_dir\": config[\"index_dir\"],\n",
    "        \"sample_size\": config[\"sample_size\"]\n",
    "    }\n",
    ")\n",
    "response.raise_for_status()\n",
    "result = response.json()\n",
    "print(\"\\nBERT Model Evaluation:\")\n",
    "print(\"Average Metrics:\")\n",
    "print(pd.DataFrame(result[\"average_metrics\"]))\n",
    "print(\"\\nSample Results (First 5 rows):\")\n",
    "print(pd.DataFrame(result[\"results\"]).head().to_string())\n"
   ]
  },
  {
   "cell_type": "code",
   "execution_count": 8,
   "id": "4a3de777",
   "metadata": {},
   "outputs": [
    {
     "name": "stdout",
     "output_type": "stream",
     "text": [
      "\n",
      "Hybrid Model Evaluation:\n",
      "Average Metrics:\n",
      "                Hybrid\n",
      "precision@10  0.128000\n",
      "recall        0.934167\n",
      "mrr           0.827381\n",
      "ap            0.775717\n",
      "\n",
      "Sample Results (First 5 rows):\n",
      "   precision@10  recall  mrr   ap query_id          model\n",
      "0           0.1     1.0  1.0  1.0   377234  Hybrid_Fusion\n",
      "1           0.1     1.0  0.5  0.5   205307  Hybrid_Fusion\n",
      "2           0.1     1.0  1.0  1.0    55573  Hybrid_Fusion\n",
      "3           0.1     1.0  1.0  1.0   237344  Hybrid_Fusion\n",
      "4           0.1     1.0  1.0  1.0   443490  Hybrid_Fusion\n"
     ]
    }
   ],
   "source": [
    "\n",
    "response = requests.post(\n",
    "    \"http://localhost:8000/evaluation/evaluate_hybrid_model\",\n",
    "    json={\n",
    "        \"dataset_name\": config[\"dataset_name\"],\n",
    "        \"tfidf_model_path\": config[\"tfidf_model_path\"],\n",
    "        \"tfidf_vector_path\": config[\"tfidf_vector_path\"],\n",
    "        \"svd_path\": config[\"svd_path\"],\n",
    "        \"bert_model_path\": config[\"bert_model_path\"],\n",
    "        \"bert_vector_path\": config[\"bert_vector_path\"],\n",
    "        \"hybrid_vector_path\": config[\"hybrid_vector_path\"],\n",
    "        \"index_dir\": config[\"index_dir\"],\n",
    "        \"sample_size\": config[\"sample_size\"],\n",
    "        \"alpha\": config[\"alpha\"]\n",
    "    }\n",
    ")\n",
    "response.raise_for_status()\n",
    "result = response.json()\n",
    "print(\"\\nHybrid Model Evaluation:\")\n",
    "print(\"Average Metrics:\")\n",
    "print(pd.DataFrame(result[\"average_metrics\"]))\n",
    "print(\"\\nSample Results (First 5 rows):\")\n",
    "print(pd.DataFrame(result[\"results\"]).head().to_string())\n"
   ]
  },
  {
   "cell_type": "code",
   "execution_count": 3,
   "id": "7454804c",
   "metadata": {},
   "outputs": [
    {
     "name": "stdout",
     "output_type": "stream",
     "text": [
      "\n",
      "Evaluation Results:\n",
      "Average Metrics:\n",
      "                TF-IDF      BERT    Hybrid\n",
      "precision@10  0.108000  0.122000  0.123500\n",
      "recall        0.980706  0.999167  0.999444\n",
      "mrr           0.734416  0.838912  0.836054\n",
      "ap            0.687154  0.808340  0.796959\n",
      "\n",
      "Sample Results (First 5 rows):\n",
      "   precision@10  recall  mrr    ap query_id   model\n",
      "0           0.0     0.0  0.0  0.00   339862  TF-IDF\n",
      "1           0.1     1.0  1.0  1.00   490116  TF-IDF\n",
      "2           0.1     1.0  1.0  1.00   150050  TF-IDF\n",
      "3           0.1     1.0  1.0  1.00   135844  TF-IDF\n",
      "4           0.2     1.0  1.0  0.75   392707  TF-IDF\n"
     ]
    }
   ],
   "source": [
    "\n",
    "response = requests.post(\n",
    "    \"http://localhost:8000/evaluation/evaluate_all_models\",\n",
    "    json=config\n",
    "    )\n",
    "response.raise_for_status()\n",
    "result = response.json()\n",
    "print(\"\\nEvaluation Results:\")\n",
    "print(\"Average Metrics:\")\n",
    "print(pd.DataFrame(result[\"average_metrics\"]))\n",
    "print(\"\\nSample Results (First 5 rows):\")\n",
    "print(pd.DataFrame(result[\"results\"]).head())"
   ]
  },
  {
   "cell_type": "code",
   "execution_count": 2,
   "id": "62c6f6a5",
   "metadata": {},
   "outputs": [
    {
     "name": "stdout",
     "output_type": "stream",
     "text": [
      "\n",
      "Evaluation Results:\n",
      "Average Metrics:\n",
      "              faiss_tfidf  faiss_bert  faiss_hybrid\n",
      "precision@10     0.002180    0.003270      0.003030\n",
      "recall           0.751538    1.000000      1.000000\n",
      "mrr              0.406865    0.881961      0.826846\n",
      "ap               0.364639    0.849254      0.798539\n",
      "\n",
      "Sample Results (First 5 rows):\n",
      "   precision@10  recall  mrr        ap query_id        model\n",
      "0         0.002     1.0  1.0  1.000000   482241  faiss_tfidf\n",
      "1         0.002     1.0  1.0  1.000000   237962  faiss_tfidf\n",
      "2         0.004     1.0  0.5  0.267241    69051  faiss_tfidf\n",
      "3         0.004     0.5  0.5  0.129902    73724  faiss_tfidf\n",
      "4         0.004     1.0  0.5  0.263699   100970  faiss_tfidf\n"
     ]
    }
   ],
   "source": [
    "\n",
    "response = requests.post(\n",
    "    \"http://localhost:8000/evaluation/evaluate_all_models_with_faiss\",\n",
    "    json=config\n",
    "    )\n",
    "response.raise_for_status()\n",
    "result = response.json()\n",
    "print(\"\\nEvaluation Results:\")\n",
    "print(\"Average Metrics:\")\n",
    "print(pd.DataFrame(result[\"average_metrics\"]))\n",
    "print(\"\\nSample Results (First 5 rows):\")\n",
    "print(pd.DataFrame(result[\"results\"]).head())"
   ]
  }
 ],
 "metadata": {
  "kernelspec": {
   "display_name": "venv",
   "language": "python",
   "name": "python3"
  },
  "language_info": {
   "codemirror_mode": {
    "name": "ipython",
    "version": 3
   },
   "file_extension": ".py",
   "mimetype": "text/x-python",
   "name": "python",
   "nbconvert_exporter": "python",
   "pygments_lexer": "ipython3",
   "version": "3.12.4"
  }
 },
 "nbformat": 4,
 "nbformat_minor": 5
}
