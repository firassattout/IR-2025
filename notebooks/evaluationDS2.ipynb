{
 "cells": [
  {
   "cell_type": "code",
   "execution_count": 26,
   "id": "b806e8b5",
   "metadata": {},
   "outputs": [],
   "source": [
    "import requests\n",
    "import pandas as pd\n",
    "\n",
    "config = {\n",
    "    \"dataset_name\": \"antique/test/non-offensive\",\n",
    "    \"dataset_name2\": \"antique_test\",\n",
    "    \"tfidf_model_path\": \"../models/tfidf/antique_test_tfidf.joblib\",\n",
    "    \"tfidf_vector_path\": \"../models/tfidf/antique_test_tfidf_vectors.joblib\",\n",
    "    \"svd_path\": \"../models/tfidf/antique_test_svd.joblib\",\n",
    "    \"bert_model_path\": \"../models/embeddings/antique_test_bert.joblib\",\n",
    "    \"bert_vector_path\": \"../models/embeddings/antique_test_vectors.joblib\",\n",
    "    \"hybrid_vector_path\": \"../models/hybrid/antique_test_hybrid_vectors.joblib\",\n",
    "    \"index_dir\": \"../data/index_antique_test\",\n",
    "    \"faiss_tfidf_index_path\": \"../models/faiss/antique_test_tfidf_faiss.index\",\n",
    "    \"faiss_bert_index_path\": \"../models/faiss/antique_test_bert_faiss.index\",\n",
    "    \"faiss_hybrid_index_path\": \"../models/faiss/antique_test_hybrid_faiss.index\",\n",
    "    \"sample_size\": 20,\n",
    "    \"alpha\": 0.1,\n",
    "    \"k\":500\n",
    "}"
   ]
  },
  {
   "cell_type": "code",
   "execution_count": 27,
   "id": "21d3b201",
   "metadata": {},
   "outputs": [
    {
     "name": "stdout",
     "output_type": "stream",
     "text": [
      "\n",
      "TF-IDF Model Evaluation:\n",
      "Average Metrics:\n",
      "               TF-IDF\n",
      "precision@10  0.41500\n",
      "recall        0.66504\n",
      "mrr           0.75625\n",
      "ap            0.25423\n",
      "\n",
      "Sample Results (First 5 rows):\n",
      "   precision@10    recall  mrr        ap query_id   model\n",
      "0           0.8  0.827586  0.5  0.363666   312215  TF-IDF\n",
      "1           0.3  0.800000  1.0  0.181382  1862795  TF-IDF\n",
      "2           0.6  0.350000  1.0  0.122333   922849  TF-IDF\n",
      "3           0.7  0.678571  1.0  0.385356  1937374  TF-IDF\n",
      "4           0.4  0.612903  1.0  0.206902   225575  TF-IDF\n"
     ]
    }
   ],
   "source": [
    "\n",
    "response = requests.post(\n",
    "    \"http://localhost:8000/evaluation/evaluate_tfidf_model\",\n",
    "    json={\n",
    "        \"dataset_name\": config[\"dataset_name\"],\n",
    "        \"tfidf_model_path\": config[\"tfidf_model_path\"],\n",
    "        \"tfidf_vector_path\": config[\"tfidf_vector_path\"],\n",
    "         \"index_dir\": config[\"index_dir\"],\n",
    "        \"sample_size\": config[\"sample_size\"]\n",
    "    }\n",
    ")\n",
    "response.raise_for_status()\n",
    "result = response.json()\n",
    "print(\"\\nTF-IDF Model Evaluation:\")\n",
    "print(\"Average Metrics:\")\n",
    "print(pd.DataFrame(result[\"average_metrics\"]))\n",
    "print(\"\\nSample Results (First 5 rows):\")\n",
    "print(pd.DataFrame(result[\"results\"]).head().to_string())\n"
   ]
  },
  {
   "cell_type": "code",
   "execution_count": 28,
   "id": "0b995a42",
   "metadata": {},
   "outputs": [
    {
     "name": "stdout",
     "output_type": "stream",
     "text": [
      "\n",
      "BERT Model Evaluation:\n",
      "Average Metrics:\n",
      "                  BERT\n",
      "precision@10  0.385000\n",
      "recall        0.581436\n",
      "mrr           0.741341\n",
      "ap            0.196123\n",
      "\n",
      "Sample Results (First 5 rows):\n",
      "   precision@10    recall  mrr        ap query_id model\n",
      "0           0.6  0.585366  1.0  0.269385   421753  BERT\n",
      "1           0.3  0.483871  1.0  0.139341   225575  BERT\n",
      "2           0.7  0.548387  1.0  0.314324  2815090  BERT\n",
      "3           0.2  0.472222  1.0  0.066440  3239329  BERT\n",
      "4           0.5  0.714286  1.0  0.301803  3639660  BERT\n"
     ]
    }
   ],
   "source": [
    "\n",
    "response = requests.post(\n",
    "    \"http://localhost:8000/evaluation/evaluate_bert_model\",\n",
    "    json={\n",
    "        \"dataset_name\": config[\"dataset_name\"],\n",
    "        \"bert_model_path\": config[\"bert_model_path\"],\n",
    "        \"bert_vector_path\": config[\"bert_vector_path\"],\n",
    "        \"index_dir\": config[\"index_dir\"],\n",
    "        \"sample_size\": config[\"sample_size\"]\n",
    "    }\n",
    ")\n",
    "response.raise_for_status()\n",
    "result = response.json()\n",
    "print(\"\\nBERT Model Evaluation:\")\n",
    "print(\"Average Metrics:\")\n",
    "print(pd.DataFrame(result[\"average_metrics\"]))\n",
    "print(\"\\nSample Results (First 5 rows):\")\n",
    "print(pd.DataFrame(result[\"results\"]).head().to_string())\n"
   ]
  },
  {
   "cell_type": "code",
   "execution_count": 34,
   "id": "4a3de777",
   "metadata": {},
   "outputs": [
    {
     "name": "stdout",
     "output_type": "stream",
     "text": [
      "\n",
      "Hybrid Model Evaluation:\n",
      "Average Metrics:\n",
      "                Hybrid\n",
      "precision@10  0.390000\n",
      "recall        0.479537\n",
      "mrr           0.820833\n",
      "ap            0.174912\n",
      "\n",
      "Sample Results (First 5 rows):\n",
      "   precision@10    recall   mrr        ap query_id   model\n",
      "0           0.4  0.571429  1.00  0.139080  3874326  Hybrid\n",
      "1           0.7  0.566667  1.00  0.285572   443848  Hybrid\n",
      "2           0.4  0.555556  1.00  0.391270  3382736  Hybrid\n",
      "3           0.2  0.324324  0.25  0.032770  1582877  Hybrid\n",
      "4           0.3  0.782609  1.00  0.208819  2528767  Hybrid\n"
     ]
    }
   ],
   "source": [
    "\n",
    "response = requests.post(\n",
    "    \"http://localhost:8000/evaluation/evaluate_hybrid_model\",\n",
    "    json={\n",
    "        \"dataset_name\": config[\"dataset_name\"],\n",
    "        \"tfidf_model_path\": config[\"tfidf_model_path\"],\n",
    "        \"tfidf_vector_path\": config[\"tfidf_vector_path\"],\n",
    "        \"svd_path\": config[\"svd_path\"],\n",
    "        \"bert_model_path\": config[\"bert_model_path\"],\n",
    "        \"bert_vector_path\": config[\"bert_vector_path\"],\n",
    "        \"hybrid_vector_path\": config[\"hybrid_vector_path\"],\n",
    "        \"index_dir\": config[\"index_dir\"],\n",
    "        \"sample_size\": config[\"sample_size\"],\n",
    "        \"alpha\": config[\"alpha\"]\n",
    "    }\n",
    ")\n",
    "response.raise_for_status()\n",
    "result = response.json()\n",
    "print(\"\\nHybrid Model Evaluation:\")\n",
    "print(\"Average Metrics:\")\n",
    "print(pd.DataFrame(result[\"average_metrics\"]))\n",
    "print(\"\\nSample Results (First 5 rows):\")\n",
    "print(pd.DataFrame(result[\"results\"]).head().to_string())\n"
   ]
  },
  {
   "cell_type": "code",
   "execution_count": 32,
   "id": "7454804c",
   "metadata": {},
   "outputs": [
    {
     "name": "stdout",
     "output_type": "stream",
     "text": [
      "\n",
      "Evaluation Results:\n",
      "Average Metrics:\n",
      "                TF-IDF      BERT    Hybrid\n",
      "precision@10  0.460000  0.515000  0.485000\n",
      "recall        0.625178  0.628769  0.604609\n",
      "mrr           0.866899  0.836446  0.790556\n",
      "ap            0.218502  0.268036  0.226296\n",
      "\n",
      "Sample Results (First 5 rows):\n",
      "   precision@10    recall       mrr        ap query_id   model\n",
      "0           0.7  0.781250  0.500000  0.332218  1119420  TF-IDF\n",
      "1           0.6  0.500000  1.000000  0.287465  4190287  TF-IDF\n",
      "2           0.6  0.750000  1.000000  0.371613   558570  TF-IDF\n",
      "3           0.3  0.793103  0.333333  0.216720  3301173  TF-IDF\n",
      "4           0.3  0.743590  0.500000  0.202400  3074429  TF-IDF\n"
     ]
    }
   ],
   "source": [
    "\n",
    "response = requests.post(\n",
    "    \"http://localhost:8000/evaluation/evaluate_all_models\",\n",
    "    json=config\n",
    "    )\n",
    "response.raise_for_status()\n",
    "result = response.json()\n",
    "print(\"\\nEvaluation Results:\")\n",
    "print(\"Average Metrics:\")\n",
    "print(pd.DataFrame(result[\"average_metrics\"]))\n",
    "print(\"\\nSample Results (First 5 rows):\")\n",
    "print(pd.DataFrame(result[\"results\"]).head())"
   ]
  },
  {
   "cell_type": "code",
   "execution_count": 24,
   "id": "16d8f7a5",
   "metadata": {},
   "outputs": [
    {
     "name": "stdout",
     "output_type": "stream",
     "text": [
      "\n",
      "Evaluation Results:\n",
      "Average Metrics:\n",
      "              faiss_tfidf  faiss_bert  faiss_hybrid\n",
      "precision@10     0.008523    0.032045      0.036375\n",
      "recall           0.130085    0.505104      0.568048\n",
      "mrr              0.205551    0.800214      0.766854\n",
      "ap               0.022056    0.196733      0.205155\n",
      "\n",
      "Sample Results (First 5 rows):\n",
      "   precision@10    recall       mrr        ap query_id        model\n",
      "0         0.000  0.000000  0.000000  0.000000  2180086  faiss_tfidf\n",
      "1         0.012  0.230769  0.500000  0.049673  1077370  faiss_tfidf\n",
      "2         0.006  0.066667  0.043478  0.001497   788976  faiss_tfidf\n",
      "3         0.028  0.411765  0.142857  0.028633  3507491  faiss_tfidf\n",
      "4         0.014  0.189189  0.071429  0.006143  1582877  faiss_tfidf\n"
     ]
    }
   ],
   "source": [
    "\n",
    "response = requests.post(\n",
    "    \"http://localhost:8000/evaluation/evaluate_all_models_with_faiss\",\n",
    "    json=config\n",
    "    )\n",
    "response.raise_for_status()\n",
    "result = response.json()\n",
    "print(\"\\nEvaluation Results:\")\n",
    "print(\"Average Metrics:\")\n",
    "print(pd.DataFrame(result[\"average_metrics\"]))\n",
    "print(\"\\nSample Results (First 5 rows):\")\n",
    "print(pd.DataFrame(result[\"results\"]).head())"
   ]
  }
 ],
 "metadata": {
  "kernelspec": {
   "display_name": "venv",
   "language": "python",
   "name": "python3"
  },
  "language_info": {
   "codemirror_mode": {
    "name": "ipython",
    "version": 3
   },
   "file_extension": ".py",
   "mimetype": "text/x-python",
   "name": "python",
   "nbconvert_exporter": "python",
   "pygments_lexer": "ipython3",
   "version": "3.12.4"
  }
 },
 "nbformat": 4,
 "nbformat_minor": 5
}
