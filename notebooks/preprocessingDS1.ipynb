{
  "cells": [
    {
      "cell_type": "code",
      "execution_count": 1,
      "id": "37dd76c8",
      "metadata": {},
      "outputs": [
        {
          "name": "stdout",
          "output_type": "stream",
          "text": [
            "success\n",
            "Dataset :beir/quora/dev\n",
            "Number of documents: 522931\n",
            "Has qrels: True\n"
          ]
        }
      ],
      "source": [
        "import requests\n",
        "\n",
        "response = requests.post(\n",
        "       \"http://localhost:8000/preprocess/load_and_store\",\n",
        "    json={\"dataset_name\": \"beir/quora/dev\", \"collection_name\": \"beir_quora\"}\n",
        ")\n",
        "response.raise_for_status() \n",
        "print(response.json()[\"status\"])\n",
        "print(\"Dataset :\"+ response.json()[\"Dataset\"])\n",
        "print(f\"Number of documents: {response.json()[\"Number\"]}\")\n",
        "print(f\"Has qrels: {response.json()[\"qrels\"]}\")"
      ]
    },
    {
      "cell_type": "code",
      "execution_count": null,
      "id": "13360de5",
      "metadata": {},
      "outputs": [
        {
          "name": "stdout",
          "output_type": "stream",
          "text": [
            "Index built successfully for beir_quora in ../data/index_beir_quora\n",
            "\n",
            "Search results for query: 'what is machine learning'\n",
            "Number of results: 10\n",
            "Doc ID: 438272, Content: {'cleaned_text_bert': 'what is machine to machine learning', 'cleaned_text_tfidf': 'what machine machine learning'}\n",
            "Doc ID: 157066, Content: {'cleaned_text_bert': 'what is machine learning', 'cleaned_text_tfidf': 'what machine learning'}\n",
            "Doc ID: 436634, Content: {'cleaned_text_bert': 'what is machine learning', 'cleaned_text_tfidf': 'what machine learning'}\n",
            "Doc ID: 438273, Content: {'cleaned_text_bert': 'what is the machine learning', 'cleaned_text_tfidf': 'what machine learning'}\n",
            "Doc ID: 457427, Content: {'cleaned_text_bert': 'what is machine learning', 'cleaned_text_tfidf': 'what machine learning'}\n",
            "Doc ID: 370715, Content: {'cleaned_text_bert': 'what is the difference between machine learning and statistical machine learning', 'cleaned_text_tfidf': 'what difference machine learning statistical machine learning'}\n",
            "Doc ID: 431500, Content: {'cleaned_text_bert': 'what are the prerequisites for learning machine learning', 'cleaned_text_tfidf': 'what prerequisite learning machine learning'}\n",
            "Doc ID: 494390, Content: {'cleaned_text_bert': 'what is learning to rank in machine learning', 'cleaned_text_tfidf': 'what learning rank machine learning'}\n",
            "Doc ID: 446161, Content: {'cleaned_text_bert': 'machine learning what are some innovative machine learning project ideas', 'cleaned_text_tfidf': 'machine learning what innovative machine learning project idea'}\n",
            "Doc ID: 174890, Content: {'cleaned_text_bert': 'what do i start with for learning machine learning', 'cleaned_text_tfidf': 'what do start learning machine learning'}\n"
          ]
        }
      ],
      "source": [
        "\n",
        "import requests\n",
        "\n",
        "# بناء الفهرس\n",
        "\n",
        "response = requests.post(\n",
        "    \"http://localhost:8000/indexing/build_index\",\n",
        "    json={\n",
        "        \"collection_name\": \"beir_quora\",\n",
        "        \"index_dir\": \"../data/index_beir_quora\",\n",
        "        \"fields\": [\"cleaned_text_bert\",\"cleaned_text_tfidf\"]\n",
        "    }\n",
        ")\n",
        "response.raise_for_status()\n",
        "print(response.json()[\"status\"])\n",
        "\n",
        "# البحث في الفهرس\n",
        "\n",
        "query = \"what is machine learning\"\n",
        "response2 = requests.post(\n",
        "    \"http://localhost:8000/indexing/search_index\",\n",
        "    json={\n",
        "        \"index_dir\": \"../data/index_beir_quora\",\n",
        "        \"query_text\": query,\n",
        "        \"fields\": [\"cleaned_text_bert\",\"cleaned_text_tfidf\"],\n",
        "        \"limit\": 10\n",
        "    }\n",
        ")\n",
        "response2.raise_for_status()\n",
        "result = response2.json()\n",
        "print(f\"\\nSearch results for query: '{result['query_text']}'\")\n",
        "print(f\"Number of results: {result['result_count']}\")\n",
        "for item in result[\"results\"]:\n",
        "    print(f\"Doc ID: {item['doc_id']}, Content: {item['content']}\")\n",
        "\n"
      ]
    },
    {
      "cell_type": "code",
      "execution_count": 4,
      "id": "7bf9eb7a",
      "metadata": {},
      "outputs": [
        {
          "name": "stdout",
          "output_type": "stream",
          "text": [
            "{'status': 'FAISS index built successfully for beir_quora (tfidf)'}\n",
            "{'status': 'FAISS index built successfully for beir_quora (bert)'}\n",
            "{'status': 'FAISS index built successfully for beir_quora (hybrid)'}\n"
          ]
        }
      ],
      "source": [
        "import requests\n",
        "\n",
        "# لـ beir_quora\n",
        "response = requests.post(\n",
        "    \"http://localhost:8000/faiss_build/build_faiss_index\",\n",
        "    json={\n",
        "        \"dataset\": \"beir_quora\",\n",
        "        \"model_type\": \"tfidf\",\n",
        "        \"vector_path\": \"models/tfidf/beir_quora_tfidf_vectors.joblib\",\n",
        "        \"index_path\": \"models/faiss/beir_quora_tfidf_faiss.index\",\n",
        "        \"svd_path\": \"models/tfidf/beir_quora_svd.joblib\",\n",
        "        \"tfidf_model_path\": \"models/tfidf/beir_quora_tfidf.joblib\",\n",
        "\n",
        "    }\n",
        ")\n",
        "print(response.json())\n",
        "\n",
        "response = requests.post(\n",
        "    \"http://localhost:8000/faiss_build/build_faiss_index\",\n",
        "    json={\n",
        "        \"dataset\": \"beir_quora\",\n",
        "        \"model_type\": \"bert\",\n",
        "        \"vector_path\": \"models/embeddings/beir_quora_vectors.joblib\",\n",
        "        \"index_path\": \"models/faiss/beir_quora_bert_faiss.index\",\n",
        "        \"bert_model_path\": \"models/embeddings/beir_quora_bert.joblib\"\n",
        "    }\n",
        ")\n",
        "print(response.json())\n",
        "\n",
        "response = requests.post(\n",
        "    \"http://localhost:8000/faiss_build/build_faiss_index\",\n",
        "    json={\n",
        "        \"dataset\": \"beir_quora\",\n",
        "        \"model_type\": \"hybrid\",\n",
        "        \"vector_path\": \"models/hybrid/beir_quora_hybrid_vectors.joblib\",\n",
        "        \"index_path\": \"models/faiss/beir_quora_hybrid_faiss.index\",\n",
        "        \"svd_path\": \"models/tfidf/beir_quora_svd.joblib\",\n",
        "        \"bert_model_path\": \"models/embeddings/beir_quora_bert.joblib\"\n",
        "    }\n",
        ")\n",
        "print(response.json())\n"
      ]
    }
  ],
  "metadata": {
    "kernelspec": {
      "display_name": "venv",
      "language": "python",
      "name": "python3"
    },
    "language_info": {
      "codemirror_mode": {
        "name": "ipython",
        "version": 3
      },
      "file_extension": ".py",
      "mimetype": "text/x-python",
      "name": "python",
      "nbconvert_exporter": "python",
      "pygments_lexer": "ipython3",
      "version": "3.12.4"
    }
  },
  "nbformat": 4,
  "nbformat_minor": 5
}
