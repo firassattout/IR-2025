{
  "cells": [
    {
      "cell_type": "code",
      "execution_count": 1,
      "id": "37dd76c8",
      "metadata": {},
      "outputs": [
        {
          "name": "stdout",
          "output_type": "stream",
          "text": [
            "success\n",
            "Dataset :antique/test\n",
            "Number of documents: 403666\n",
            "Has qrels: True\n"
          ]
        }
      ],
      "source": [
        "import requests\n",
        "response = requests.post(\n",
        "    \"http://localhost:8000/preprocess/load_and_store\",\n",
        "    json={\"dataset_name\": \"antique/test\", \"collection_name\": \"antique_test\"}\n",
        ")\n",
        "response.raise_for_status() \n",
        "print(response.json()[\"status\"])\n",
        "print(\"Dataset :\"+ response.json()[\"Dataset\"])\n",
        "print(f\"Number of documents: {response.json()[\"Number\"]}\")\n",
        "print(f\"Has qrels: {response.json()[\"qrels\"]}\")"
      ]
    },
    {
      "cell_type": "code",
      "execution_count": 3,
      "id": "13360de5",
      "metadata": {},
      "outputs": [
        {
          "name": "stdout",
          "output_type": "stream",
          "text": [
            "Index built successfully for antique_test in ../data/index_antique_test\n",
            "\n",
            "Search results for query: 'what is machine learning'\n",
            "Number of results: 4\n",
            "Doc ID: 564804_13, Content: {'cleaned_text_tfidf': 'musically listen something make feel certain way hit spot what feeling time good example would rage machine killing name when pissed pink floyd wish when missing someone play instrument try copy what playing might worth learning artistically similar deal find photo picture get moment attempt draw paint etc look nothing like pic matter go see what come life wise stupid sound sometimes getting totally f cking drunk letting loose emotion telling people what think em smashing something acting stupid dancing going one whatever might bare reprecutions help release emotion tension need done time time', 'cleaned_text_bert': 'musically listen to something that makes you feel a certain way or hits the spot with what you are feeling at that time a good example for me would be rage against the machine killing in the name off when i m pissed off or pink floyd s wish you were here when i m missing someone if you can play an instrument try and copy what they are playing if you can t it might be worth learning to artistically similar deal find a photo or picture that gets you at that moment and attempt to draw it or paint it etc if it looks nothing like the pic it doesn t matter just go with it and see what comes out life wise as stupid as it sound sometimes getting totally f cking drunk and letting loose with your emotions telling people what you think of em smashing something up acting stupid and dancing about or going off on one whatever might bare reprecutions but it helps release emotions tension and needs to be done from time to time'}\n",
            "Doc ID: 3269759_4, Content: {'cleaned_text_tfidf': 'ai creation adaptive network capable acquiring information utilizing e learning machine what make human unique dominant ability learn create computer collect vast amount information memory program use information brain however program change thus repeat designed task putting par animal instinct however recently supercomputer show ability change program thus adapting environment beating grand chess master exploring mar surface far ai basic level advanced primate early toddler when ai reach level self awareness making decision human become obsolete', 'cleaned_text_bert': 'ai is the creation of an adaptive network that is capable of acquiring information and utilizing it e i a learning machine what makes humans so unique and dominant are the abilities to learn and create computers can collect a vast amount of information memory and programs can use this information brain however programs can not change thus they can only repeat their designed tasks putting them on par with animal instincts however recently supercomputers show the ability to change those programs and thus adapting to the environment such as beating grand chess masters or exploring the mars surface so far ai is on a basic level with advanced primates and early toddlers when ai reaches the level of self awareness and making its own decisions humans will become obsolete'}\n",
            "Doc ID: 481605_3, Content: {'cleaned_text_tfidf': 'tell tale occurrence clearly signal something else true happen linguistics tell tale string character occurs within one language within group language reader completely certain language reading come across tell tale sense tell tale dead give away what language formally tell tale member l language class finite subset l language containing subset class proper subset l word tell tale finite subset make language minimal consistent one class term used field artificial intelligence machine language learning well linguistics', 'cleaned_text_bert': 'a tell tale is an occurrence that clearly signals that something else is true or is about to happen linguistics a tell tale is a string of characters that occurs only within one language within a group of languages a reader can be completely certain which language they are reading if he or she comes across a tell tale in this sense a tell tale is a dead give away of what the language is more formally a tell tale of a member l of some language class is a finite subset of l such that no other language containing the subset in the class is a proper subset of l in other words a tell tale is a finite subset that makes a language being a minimal consistent one in the class the term is used in the field of artificial intelligence and machine language learning as well as linguistics'}\n",
            "Doc ID: 3895409_3, Content: {'cleaned_text_tfidf': 'how develop long still alive capable changing growing do anything want do anything want listen positive thought how continue self development apply life accept personal responsibility growth one do what do today determine readiness tomorrow take time every day do something take class stay current field expertise world changing rapidly must learn manage change avoid obsolescence way rogers put even right track sit get run listen cassette tape personal professional growth topic never look back past control action instant what right learn people experience rather try everything shortens time needed learn dealing problem help learn patience strengthens management skill good mental exercise analyze non judgmental way mistake involved help prevent future reward when catch working important priority never say something done keep looking way do attending seminar report bos people organization what important thing learned program learning experience whether reading seeing thinking attending apply r squared squared formula recognize relate assimilate apply action help grow direction goal eliminate one time waster week life read minimum one chapter book day read minimum one book month hungry what life offer go decide what really desire do do when option reading book listening cassette tape version program listen tape point done driving jogging walking getting routine thing done develop master mind group four five people openly discus idea nonjudgmental way develop resource others networking find who doe what when may find excellent contact future need need others meet work balance life goal family financial professional social spiritual recreational always keep goal mind start new activity do lot work calculator run machine hand use writing do afraid failing something learn change result difficult project opportunity biggest success difficult people could become strongest ally put picture dream goal where see frequently remind aid focusing visualizing goal hour day learn people who get done do perhaps find way improve what find nonjudgmental mentor who help providing feedback suggestion challenge support identify model observe style action do copy learn experience learn error see others make well success fill mind positive idea thought inspiration room left negative trade', 'cleaned_text_bert': 'how to develop yourself as long as you are still alive you are capable of changing and growing you can do anything you want to do be anything you want to be listen to some positive thoughts on how to continue your self development and then apply them in your own life accept personal responsibility for your own growth no one can do it for you what you do today will determine your readiness for tomorrow take time every day to do something for yourself take classes to stay current in your field of expertise the world is changing rapidly and you must learn to manage change to avoid obsolescence the way will rogers put this was that even if you are on the right track if you just sit there you will get run over listen to cassette tapes on personal and professional growth topics never look back to the past you only can control your actions in this instant so what should you be doing right now learn from other people s experience rather then having to try everything for yourself it shortens the time needed to learn dealing with a problem helps you learn patience and strengthens your management skills it is good mental exercise analyze in a non judgmental way mistakes in which you were involved it will help you to prevent these in the future reward yourself when you catch yourself working on the most important priorities never say something can t or won t be done keep looking for ways to do it after attending a seminar report to your boss or other people in your organization what the most important things are that you learned from the program for all learning experiences whether it is reading seeing thinking or attending apply the r squared a squared formula recognize relate assimilate and apply these actions will help you grow in the direction of your goals eliminate one time waster a week from your life read a minimum of one chapter of a book a day read a minimum of one book a month be hungry for what life has to offer and go for it decide what you really desire to do then do it when you have the option of reading a book or listening to the cassette tape version of the program listen to the tape it will be more to the point and can be done while you are driving jogging walking or getting other routine things done develop a master mind group of four or five people with whom you can openly discuss ideas in a nonjudgmental way develop yourself as a resource for others by networking find out who does what when and for whom you may find excellent contacts for your future needs and for the needs of others you meet work for balance in your life goals family financial professional social spiritual recreational always keep your goals in mind as you start a new activity if you do a lot of work with the calculator run the machine with the hand you don t use for writing do not be afraid of failing at something you can learn and change as a result of it the most difficult projects are opportunities for your biggest successes just as the most difficult people could become your strongest allies put up pictures of your dreams and goals where you will see them frequently they will remind you and aid you in focusing and visualizing your goal we all have the same hours in a day learn from those people who get more done than you do perhaps you can find a way to improve what you are doing find a nonjudgmental mentor who will help you by providing feedback suggestions challenges and support identify some models and observe their style and actions do not copy them but learn from their experiences learn from the errors you see others make as well as from their successes fill your mind with positive ideas thoughts and inspirations and you will have no room left for the negative trade'}\n"
          ]
        }
      ],
      "source": [
        "\n",
        "import requests\n",
        "\n",
        "# بناء الفهرس\n",
        "\n",
        "response = requests.post(\n",
        "    \"http://localhost:8000/indexing/build_index\",\n",
        "    json={\n",
        "        \"collection_name\": \"antique_test\",\n",
        "        \"index_dir\": \"../data/index_antique_test\",\n",
        "        \"fields\": [\"cleaned_text_tfidf\", \"cleaned_text_bert\"]\n",
        "    }\n",
        ")\n",
        "response.raise_for_status()\n",
        "print(response.json()[\"status\"])\n",
        "\n",
        "# البحث في الفهرس\n",
        "\n",
        "query = \"what is machine learning\"\n",
        "response2 = requests.post(\n",
        "    \"http://localhost:8000/indexing/search_index\",\n",
        "    json={\n",
        "        \"index_dir\": \"../data/index_antique_test\",\n",
        "        \"query_text\": query,\n",
        "        \"fields\": [\"cleaned_text_tfidf\", \"cleaned_text_bert\"],\n",
        "        \"limit\": 10\n",
        "    }\n",
        ")\n",
        "response2.raise_for_status()\n",
        "result = response2.json()\n",
        "print(f\"\\nSearch results for query: '{result['query_text']}'\")\n",
        "print(f\"Number of results: {result['result_count']}\")\n",
        "for item in result[\"results\"]:\n",
        "    print(f\"Doc ID: {item['doc_id']}, Content: {item['content']}\")\n",
        "\n"
      ]
    },
    {
      "cell_type": "code",
      "execution_count": 1,
      "id": "edef80d1",
      "metadata": {},
      "outputs": [
        {
          "name": "stdout",
          "output_type": "stream",
          "text": [
            "{'status': 'FAISS index built successfully for antique_test (tfidf)'}\n",
            "{'status': 'FAISS index built successfully for antique_test (bert)'}\n",
            "{'status': 'FAISS index built successfully for antique_test (hybrid)'}\n"
          ]
        }
      ],
      "source": [
        "import requests\n",
        "\n",
        "# لـ antique_test\n",
        "response = requests.post(\n",
        "    \"http://localhost:8000/faiss_build/build_faiss_index\",\n",
        "    json={\n",
        "        \"dataset\": \"antique_test\",\n",
        "        \"model_type\": \"tfidf\",\n",
        "        \"vector_path\": \"models/tfidf/antique_test_tfidf_vectors.joblib\",\n",
        "        \"index_path\": \"models/faiss/antique_test_tfidf_faiss.index\",\n",
        "        \"svd_path\": \"models/tfidf/antique_test_svd.joblib\",\n",
        "        \"tfidf_model_path\": \"models/tfidf/antique_test_tfidf.joblib\",\n",
        "\n",
        "    }\n",
        ")\n",
        "print(response.json())\n",
        "\n",
        "response = requests.post(\n",
        "    \"http://localhost:8000/faiss_build/build_faiss_index\",\n",
        "    json={\n",
        "        \"dataset\": \"antique_test\",\n",
        "        \"model_type\": \"bert\",\n",
        "        \"vector_path\": \"models/embeddings/antique_test_vectors.joblib\",\n",
        "        \"index_path\": \"models/faiss/antique_test_bert_faiss.index\",\n",
        "        \"bert_model_path\": \"models/embeddings/antique_test_bert.joblib\"\n",
        "    }\n",
        ")\n",
        "print(response.json())\n",
        "\n",
        "response = requests.post(\n",
        "    \"http://localhost:8000/faiss_build/build_faiss_index\",\n",
        "    json={\n",
        "        \"dataset\": \"antique_test\",\n",
        "        \"model_type\": \"hybrid\",\n",
        "        \"vector_path\": \"models/hybrid/antique_test_hybrid_vectors.joblib\",\n",
        "        \"index_path\": \"models/faiss/antique_test_hybrid_faiss.index\",\n",
        "        \"svd_path\": \"models/tfidf/antique_test_svd.joblib\",\n",
        "        \"bert_model_path\": \"models/embeddings/antique_test_bert.joblib\"\n",
        "    }\n",
        ")\n",
        "print(response.json())\n"
      ]
    }
  ],
  "metadata": {
    "kernelspec": {
      "display_name": "venv",
      "language": "python",
      "name": "python3"
    },
    "language_info": {
      "codemirror_mode": {
        "name": "ipython",
        "version": 3
      },
      "file_extension": ".py",
      "mimetype": "text/x-python",
      "name": "python",
      "nbconvert_exporter": "python",
      "pygments_lexer": "ipython3",
      "version": "3.12.4"
    }
  },
  "nbformat": 4,
  "nbformat_minor": 5
}
